{
 "cells": [
  {
   "cell_type": "markdown",
   "id": "d0c2bca4-c6e2-45ea-b823-21b1088e1f23",
   "metadata": {
    "execution": {
     "iopub.execute_input": "2023-09-04T19:45:32.960836Z",
     "iopub.status.busy": "2023-09-04T19:45:32.960610Z",
     "iopub.status.idle": "2023-09-04T19:45:32.963765Z",
     "shell.execute_reply": "2023-09-04T19:45:32.963070Z",
     "shell.execute_reply.started": "2023-09-04T19:45:32.960817Z"
    }
   },
   "source": [
    "# Evaluating Model Performance Example"
   ]
  },
  {
   "cell_type": "code",
   "execution_count": 69,
   "id": "211f144a-74e5-4644-bbd0-81f8c5db9807",
   "metadata": {
    "execution": {
     "iopub.execute_input": "2023-09-05T08:50:55.698613Z",
     "iopub.status.busy": "2023-09-05T08:50:55.698314Z",
     "iopub.status.idle": "2023-09-05T08:50:55.722516Z",
     "shell.execute_reply": "2023-09-05T08:50:55.721836Z",
     "shell.execute_reply.started": "2023-09-05T08:50:55.698588Z"
    }
   },
   "outputs": [
    {
     "ename": "ModuleNotFoundError",
     "evalue": "No module named 'shared_data_files'",
     "output_type": "error",
     "traceback": [
      "\u001b[0;31m---------------------------------------------------------------------------\u001b[0m",
      "\u001b[0;31mModuleNotFoundError\u001b[0m                       Traceback (most recent call last)",
      "Cell \u001b[0;32mIn[69], line 12\u001b[0m\n\u001b[1;32m      9\u001b[0m \u001b[38;5;28;01mimport\u001b[39;00m \u001b[38;5;21;01mmatplotlib\u001b[39;00m\u001b[38;5;21;01m.\u001b[39;00m\u001b[38;5;21;01mpyplot\u001b[39;00m \u001b[38;5;28;01mas\u001b[39;00m \u001b[38;5;21;01mplt\u001b[39;00m\n\u001b[1;32m     10\u001b[0m \u001b[38;5;28;01mimport\u001b[39;00m \u001b[38;5;21;01mtorch\u001b[39;00m\n\u001b[0;32m---> 12\u001b[0m \u001b[38;5;28;01mimport\u001b[39;00m \u001b[38;5;21;01mpicts_ml\u001b[39;00m\u001b[38;5;21;01m.\u001b[39;00m\u001b[38;5;21;01mshared_data_files\u001b[39;00m\u001b[38;5;21;01m.\u001b[39;00m\u001b[38;5;21;01mshared_functions\u001b[39;00m\n",
      "File \u001b[0;32m~/Documents/projects_and_code/2023_QUADRAT/dev/PICTS_ML/picts_ml/shared_data_files/shared_functions.py:9\u001b[0m\n\u001b[1;32m      7\u001b[0m \u001b[38;5;28;01mimport\u001b[39;00m \u001b[38;5;21;01mobspy\u001b[39;00m\n\u001b[1;32m      8\u001b[0m \u001b[38;5;28;01mimport\u001b[39;00m \u001b[38;5;21;01mos\u001b[39;00m\n\u001b[0;32m----> 9\u001b[0m \u001b[38;5;28;01mimport\u001b[39;00m \u001b[38;5;21;01mshared_data_files\u001b[39;00m\u001b[38;5;21;01m.\u001b[39;00m\u001b[38;5;21;01mconfig\u001b[39;00m \u001b[38;5;28;01mas\u001b[39;00m \u001b[38;5;21;01mconfig\u001b[39;00m  \u001b[38;5;66;03m# user configuration\u001b[39;00m\n\u001b[1;32m     10\u001b[0m \u001b[38;5;66;03m# NOTE in future consider swapping from os module to pathlib\u001b[39;00m\n\u001b[1;32m     13\u001b[0m \u001b[38;5;28;01mdef\u001b[39;00m \u001b[38;5;21mcheck_dir_ready\u001b[39m(path: \u001b[38;5;28mstr\u001b[39m, allow_files: \u001b[38;5;28mbool\u001b[39m \u001b[38;5;241m=\u001b[39m \u001b[38;5;28;01mFalse\u001b[39;00m) \u001b[38;5;241m-\u001b[39m\u001b[38;5;241m>\u001b[39m \u001b[38;5;28mstr\u001b[39m:\n",
      "\u001b[0;31mModuleNotFoundError\u001b[0m: No module named 'shared_data_files'"
     ]
    }
   ],
   "source": [
    "import seisbench\n",
    "import seisbench.data as sbd\n",
    "import seisbench.models as sbm\n",
    "import seisbench.generate as sbg\n",
    "import obspy\n",
    "import numpy as np\n",
    "import pandas as pd\n",
    "import os\n",
    "import matplotlib.pyplot as plt\n",
    "import torch\n",
    "\n",
    "import picts_ml.shared_data_files.shared_functions"
   ]
  },
  {
   "cell_type": "markdown",
   "id": "34524e9f-5216-464a-ab45-9d4843eee58b",
   "metadata": {},
   "source": [
    "Load the models to evaluate:"
   ]
  },
  {
   "cell_type": "code",
   "execution_count": 2,
   "id": "7c954a6a-1689-42c1-b782-71ca590aba16",
   "metadata": {
    "execution": {
     "iopub.execute_input": "2023-09-04T19:45:11.376373Z",
     "iopub.status.busy": "2023-09-04T19:45:11.376148Z",
     "iopub.status.idle": "2023-09-04T19:45:11.711178Z",
     "shell.execute_reply": "2023-09-04T19:45:11.710687Z",
     "shell.execute_reply.started": "2023-09-04T19:45:11.376354Z"
    }
   },
   "outputs": [],
   "source": [
    "retrained_phasenet_stead = sbm.PhaseNet().load(\"trained_models/phasenet_stead_retrained_picts\", version_str=\"1\")\n",
    "retrained_phasenet_ethz = sbm.PhaseNet().load(\"trained_models/phasenet_ethz_retrained_picts\", version_str=\"1\")\n",
    "retrained_phasenet_instance = sbm.PhaseNet().load(\"trained_models/phasenet_instance_retrained_picts\", version_str=\"1\")"
   ]
  },
  {
   "cell_type": "markdown",
   "id": "7f861016-6d4a-432c-964e-b3c9b657f67f",
   "metadata": {},
   "source": [
    "Load the test data. Note that it is important to ensure that none of the models have been trained using the test data."
   ]
  },
  {
   "cell_type": "code",
   "execution_count": 37,
   "id": "beaeee53-3363-4a21-ba50-2af19850d82f",
   "metadata": {
    "execution": {
     "iopub.execute_input": "2023-09-04T20:17:08.419925Z",
     "iopub.status.busy": "2023-09-04T20:17:08.419538Z",
     "iopub.status.idle": "2023-09-04T20:17:08.431255Z",
     "shell.execute_reply": "2023-09-04T20:17:08.430729Z",
     "shell.execute_reply.started": "2023-09-04T20:17:08.419913Z"
    }
   },
   "outputs": [],
   "source": [
    "csv_data = pd.read_csv(\"events_catalogue/preprocessed_event_data_2023-08-27 14:41:24.838809.csv\", header=[0])"
   ]
  },
  {
   "cell_type": "code",
   "execution_count": 39,
   "id": "b372176e-90eb-484c-9427-c90d1fb1521f",
   "metadata": {
    "execution": {
     "iopub.execute_input": "2023-09-04T20:17:24.772956Z",
     "iopub.status.busy": "2023-09-04T20:17:24.772827Z",
     "iopub.status.idle": "2023-09-04T20:17:24.776869Z",
     "shell.execute_reply": "2023-09-04T20:17:24.776298Z",
     "shell.execute_reply.started": "2023-09-04T20:17:24.772945Z"
    }
   },
   "outputs": [
    {
     "data": {
      "text/plain": [
       "Index(['Unnamed: 0', 'utc_datetime', 'lat', 'lon', 'depth', 'ML', 'RMS',\n",
       "       'intensity', 'locality_1', 'locality_2', 'locality_3',\n",
       "       'name_of_originating_file', 'comments',\n",
       "       'PITL_p_arrival_time_man_picked', 'PITL_s_arrival_time_man_picked',\n",
       "       'P3MM_p_arrival_time_man_picked', 'P3MM_s_arrival_time_man_picked',\n",
       "       'P2LR_p_arrival_time_man_picked', 'P2LR_s_arrival_time_man_picked',\n",
       "       'P1GW_p_arrival_time_man_picked', 'P1GW_s_arrival_time_man_picked',\n",
       "       'G1WS_p_arrival_time_man_picked', 'G1WS_s_arrival_time_man_picked',\n",
       "       'G2EB_p_arrival_time_man_picked', 'G2EB_s_arrival_time_man_picked',\n",
       "       'G3GB_p_arrival_time_man_picked', 'G3GB_s_arrival_time_man_picked',\n",
       "       'B1BC_p_arrival_time_man_picked', 'B1BC_s_arrival_time_man_picked',\n",
       "       'DRUM_p_arrival_time_man_picked', 'DRUM_s_arrival_time_man_picked',\n",
       "       'B3FZ_p_arrival_time_man_picked', 'B3FZ_s_arrival_time_man_picked',\n",
       "       'TARL_p_arrival_time_man_picked', 'TARL_s_arrival_time_man_picked'],\n",
       "      dtype='object')"
      ]
     },
     "execution_count": 39,
     "metadata": {},
     "output_type": "execute_result"
    }
   ],
   "source": [
    "data.columns"
   ]
  },
  {
   "cell_type": "code",
   "execution_count": 40,
   "id": "0f1d806e-3946-4d61-8bb2-9f66f9c00106",
   "metadata": {
    "execution": {
     "iopub.execute_input": "2023-09-05T07:31:34.995063Z",
     "iopub.status.busy": "2023-09-05T07:31:34.994662Z",
     "iopub.status.idle": "2023-09-05T07:31:35.015316Z",
     "shell.execute_reply": "2023-09-05T07:31:35.014846Z",
     "shell.execute_reply.started": "2023-09-05T07:31:34.995034Z"
    }
   },
   "outputs": [],
   "source": [
    "trg_data = sbd.WaveformDataset(\"events_catalogue\", sampling_rate=100, missing_componens=\"pad\")"
   ]
  },
  {
   "cell_type": "code",
   "execution_count": 41,
   "id": "fbebf1ce-6a84-45a4-a3c6-23ad971c8446",
   "metadata": {
    "execution": {
     "iopub.execute_input": "2023-09-05T07:32:02.962360Z",
     "iopub.status.busy": "2023-09-05T07:32:02.962157Z",
     "iopub.status.idle": "2023-09-05T07:32:02.972697Z",
     "shell.execute_reply": "2023-09-05T07:32:02.971333Z",
     "shell.execute_reply.started": "2023-09-05T07:32:02.962346Z"
    }
   },
   "outputs": [
    {
     "data": {
      "text/plain": [
       "<seisbench.data.base.WaveformDataset at 0x7f9fe4e5b090>"
      ]
     },
     "execution_count": 41,
     "metadata": {},
     "output_type": "execute_result"
    }
   ],
   "source": [
    "_, _, test = trg_data.train_dev_test()\n",
    "test"
   ]
  },
  {
   "cell_type": "code",
   "execution_count": 43,
   "id": "23a3a311-0af9-4ea8-b795-11111d4a995f",
   "metadata": {
    "execution": {
     "iopub.execute_input": "2023-09-05T07:32:39.323916Z",
     "iopub.status.busy": "2023-09-05T07:32:39.323762Z",
     "iopub.status.idle": "2023-09-05T07:32:39.327745Z",
     "shell.execute_reply": "2023-09-05T07:32:39.327225Z",
     "shell.execute_reply.started": "2023-09-05T07:32:39.323900Z"
    }
   },
   "outputs": [
    {
     "data": {
      "text/plain": [
       "Index(['index', 'station_network_code', 'station_code', 'trace_channel',\n",
       "       'station_latitude_deg', 'station_longitude_deg', 'station_elevation_m',\n",
       "       'trace_p_arrival_sample', 'trace_p_status', 'trace_p_weight',\n",
       "       'path_p_travel_sec', 'trace_s_arrival_sample', 'trace_s_status',\n",
       "       'trace_s_weight', 'source_id', 'source_origin_time',\n",
       "       'source_origin_uncertainty_sec', 'source_latitude_deg',\n",
       "       'source_longitude_deg', 'source_error_sec', 'source_gap_deg',\n",
       "       'source_horizontal_uncertainty_km', 'source_depth_km',\n",
       "       'source_depth_uncertainty_km', 'source_magnitude',\n",
       "       'source_magnitude_type', 'source_magnitude_author',\n",
       "       'source_mechanism_strike_dip_rake', 'source_distance_deg',\n",
       "       'source_distance_km', 'path_back_azimuth_deg', 'trace_snr_db',\n",
       "       'trace_coda_end_sample', 'trace_start_time', 'trace_category',\n",
       "       'trace_name', 'split', 'trace_name_original', 'trace_sampling_rate_hz',\n",
       "       'trace_chunk', 'trace_component_order'],\n",
       "      dtype='object')"
      ]
     },
     "execution_count": 43,
     "metadata": {},
     "output_type": "execute_result"
    }
   ],
   "source": [
    "test.metadata.columns"
   ]
  },
  {
   "cell_type": "code",
   "execution_count": 65,
   "id": "1c92b7c8-ef92-4be7-b856-3717e264ef8a",
   "metadata": {
    "execution": {
     "iopub.execute_input": "2023-09-05T07:58:39.328828Z",
     "iopub.status.busy": "2023-09-05T07:58:39.328675Z",
     "iopub.status.idle": "2023-09-05T07:58:39.334660Z",
     "shell.execute_reply": "2023-09-05T07:58:39.334076Z",
     "shell.execute_reply.started": "2023-09-05T07:58:39.328813Z"
    }
   },
   "outputs": [
    {
     "name": "stdout",
     "output_type": "stream",
     "text": [
      "trace start: 2022-04-14T10:44:53.000000Z\n",
      "arrival p: 2022-04-14T10:49:52.990000Z\n",
      "arrival s: 2022-04-14T10:49:54.090000Z\n",
      "trace start: 2022-04-19T02:58:40.590000Z\n",
      "arrival p: 2022-04-19T03:03:40.580000Z\n",
      "arrival s: 2022-04-19T03:03:42.450000Z\n",
      "trace start: 2022-04-19T03:01:40.890000Z\n",
      "arrival p: 2022-04-19T03:06:40.890000Z\n",
      "arrival s: 2022-04-19T03:06:41.470000Z\n",
      "trace start: 2022-04-19T11:21:48.500000Z\n",
      "arrival p: 2022-04-19T11:26:48.490000Z\n",
      "arrival s: 2022-04-19T11:26:49.120000Z\n",
      "trace start: 2022-04-19T11:21:52.140000Z\n",
      "arrival p: 2022-04-19T11:26:52.140000Z\n",
      "arrival s: 2022-04-19T11:26:53.740000Z\n",
      "trace start: 2022-04-20T11:16:06.440000Z\n",
      "arrival p: 2022-04-20T11:21:06.440000Z\n",
      "arrival s: 2022-04-20T11:21:08.290000Z\n",
      "trace start: 2022-04-21T04:10:10.010000Z\n",
      "arrival p: 2022-04-21T04:15:10.000000Z\n",
      "arrival s: 2022-04-21T04:15:10.460000Z\n",
      "trace start: 2022-04-23T18:34:30.490000Z\n",
      "arrival p: 2022-04-23T18:39:30.480000Z\n",
      "arrival s: 2022-04-23T18:39:31.170000Z\n",
      "trace start: 2022-04-24T09:43:25.730000Z\n",
      "arrival p: 2022-04-24T09:48:25.720000Z\n",
      "arrival s: 2022-04-24T09:48:25.840000Z\n",
      "trace start: 2022-05-08T12:07:59.610000Z\n",
      "arrival p: 2022-05-08T12:12:59.610000Z\n",
      "arrival s: 2022-05-08T12:12:59.810000Z\n",
      "trace start: 2022-05-08T12:08:02.380000Z\n",
      "arrival p: 2022-05-08T12:13:02.380000Z\n",
      "arrival s: 2022-05-08T12:13:02.740000Z\n",
      "trace start: 2022-05-08T12:08:01.410000Z\n",
      "arrival p: 2022-05-08T12:13:01.400000Z\n",
      "arrival s: 2022-05-08T12:13:01.850000Z\n",
      "trace start: 2022-05-08T12:08:02.060000Z\n",
      "arrival p: 2022-05-08T12:13:02.060000Z\n",
      "arrival s: 2022-05-08T12:13:02.380000Z\n"
     ]
    }
   ],
   "source": [
    "p_arrivals = dict()\n",
    "s_arrivals = dict()\n",
    "for index in test.metadata.index:\n",
    "    trace_start_time = obspy.UTCDateTime(test.metadata.loc[index, \"trace_start_time\"])\n",
    "    sample_rate = int(test.metadata.loc[index, \"trace_sampling_rate_hz\"])\n",
    "    p_arr_sample = int(test.metadata.loc[index, \"trace_p_arrival_sample\"])\n",
    "    p_arr_time = trace_start_time + (p_arr_sample / sample_rate)\n",
    "    s_arr_sample = int(test.metadata.loc[index, \"trace_s_arrival_sample\"])\n",
    "    s_arr_time = trace_start_time + (s_arr_sample / sample_rate)\n",
    "    station = test.metadata.loc[index, \"station_code\"]\n",
    "    print(f\"trace start: {trace_start_time}\")\n",
    "    print(f\"arrival p: {p_arr_time}\")\n",
    "    print(f\"arrival s: {s_arr_time}\")"
   ]
  },
  {
   "cell_type": "code",
   "execution_count": null,
   "id": "7f3a2929-695a-444b-a322-52783d69474d",
   "metadata": {},
   "outputs": [],
   "source": []
  }
 ],
 "metadata": {
  "kernelspec": {
   "display_name": "earthquake_a",
   "language": "python",
   "name": "earthquake_a"
  },
  "language_info": {
   "codemirror_mode": {
    "name": "ipython",
    "version": 3
   },
   "file_extension": ".py",
   "mimetype": "text/x-python",
   "name": "python",
   "nbconvert_exporter": "python",
   "pygments_lexer": "ipython3",
   "version": "3.11.4"
  }
 },
 "nbformat": 4,
 "nbformat_minor": 5
}
